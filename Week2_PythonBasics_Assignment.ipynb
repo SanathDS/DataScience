{
 "cells": [
  {
   "cell_type": "code",
   "execution_count": 3,
   "id": "b20365ca",
   "metadata": {},
   "outputs": [
    {
     "name": "stdout",
     "output_type": "stream",
     "text": [
      "Enter first value: 10\n",
      "Enter Second value: 290\n",
      "300\n"
     ]
    }
   ],
   "source": [
    "a= int(input(\"Enter first value: \"))\n",
    "b= int(input(\"Enter Second value: \"))\n",
    "def add(arg1, arg2):\n",
    "    c= a+b\n",
    "    return c\n",
    "c= add(a,b)\n",
    "print (c)"
   ]
  },
  {
   "cell_type": "code",
   "execution_count": 7,
   "id": "c0a4dae6",
   "metadata": {},
   "outputs": [
    {
     "ename": "TypeError",
     "evalue": "unsupported operand type(s) for +: 'int' and 'str'",
     "output_type": "error",
     "traceback": [
      "\u001b[1;31m---------------------------------------------------------------------------\u001b[0m",
      "\u001b[1;31mTypeError\u001b[0m                                 Traceback (most recent call last)",
      "\u001b[1;32mC:\\Users\\SANATH~1\\AppData\\Local\\Temp/ipykernel_19828/696544020.py\u001b[0m in \u001b[0;36m<module>\u001b[1;34m\u001b[0m\n\u001b[0;32m      1\u001b[0m \u001b[0ma\u001b[0m\u001b[1;33m=\u001b[0m \u001b[1;36m5\u001b[0m\u001b[1;33m\u001b[0m\u001b[1;33m\u001b[0m\u001b[0m\n\u001b[0;32m      2\u001b[0m \u001b[0mb\u001b[0m\u001b[1;33m=\u001b[0m \u001b[1;34m'Example'\u001b[0m\u001b[1;33m\u001b[0m\u001b[1;33m\u001b[0m\u001b[0m\n\u001b[1;32m----> 3\u001b[1;33m \u001b[0mC\u001b[0m\u001b[1;33m=\u001b[0m \u001b[0ma\u001b[0m\u001b[1;33m+\u001b[0m\u001b[0mb\u001b[0m\u001b[1;33m\u001b[0m\u001b[1;33m\u001b[0m\u001b[0m\n\u001b[0m\u001b[0;32m      4\u001b[0m \u001b[1;31m#D = b+a # can only concatenate str (not \"int\") to str\u001b[0m\u001b[1;33m\u001b[0m\u001b[1;33m\u001b[0m\u001b[0m\n",
      "\u001b[1;31mTypeError\u001b[0m: unsupported operand type(s) for +: 'int' and 'str'"
     ]
    }
   ],
   "source": [
    "a= 5\n",
    "b= 'Example'\n",
    "C= a+b #TypeError: unsupported operand type(s) for +: 'int' and 'str'\n",
    "D = b+a # can only concatenate str (not \"int\") to str"
   ]
  },
  {
   "cell_type": "code",
   "execution_count": 23,
   "id": "2b6906da",
   "metadata": {},
   "outputs": [
    {
     "data": {
      "text/plain": [
       "True"
      ]
     },
     "execution_count": 23,
     "metadata": {},
     "output_type": "execute_result"
    }
   ],
   "source": [
    " egstring= 'Data science'\n",
    "'s'  in egstring"
   ]
  },
  {
   "cell_type": "code",
   "execution_count": 41,
   "id": "2e397f39",
   "metadata": {},
   "outputs": [
    {
     "name": "stdout",
     "output_type": "stream",
     "text": [
      "lenght of list is 7\n"
     ]
    },
    {
     "data": {
      "text/plain": [
       "True"
      ]
     },
     "execution_count": 41,
     "metadata": {},
     "output_type": "execute_result"
    }
   ],
   "source": [
    "input_list = [2,3,45,789,90,900876,2]\n",
    "def checknum(arg1):\n",
    "    k= len (arg1)\n",
    "    print(f'lenght of list is {k}')\n",
    "    if arg1[0] == arg1[k-1]:\n",
    "        return True\n",
    "    else :\n",
    "        return False\n",
    "checknum(input_list)"
   ]
  },
  {
   "cell_type": "code",
   "execution_count": 35,
   "id": "0bef4ee4",
   "metadata": {},
   "outputs": [
    {
     "name": "stdout",
     "output_type": "stream",
     "text": [
      "10\n",
      "20\n",
      "55\n"
     ]
    }
   ],
   "source": [
    "l1 = [10, 20, 33, 46, 55]\n",
    "for a in l1:\n",
    "    if a%5 == 0:\n",
    "        print (a)\n",
    "    else :\n",
    "        pass"
   ]
  },
  {
   "cell_type": "code",
   "execution_count": 39,
   "id": "66a052a8",
   "metadata": {},
   "outputs": [
    {
     "name": "stdout",
     "output_type": "stream",
     "text": [
      "Enter the first value:  34\n",
      "Enter the second value: 27\n",
      "(61, 7)\n"
     ]
    }
   ],
   "source": [
    "a = int(input(\"Enter the first value:  \"))\n",
    "b=  int(input(\"Enter the second value: \"))\n",
    "\n",
    "def calculation(arg1,arg2):\n",
    "    c= a+b\n",
    "    d= a-b\n",
    "    return (c,d)\n",
    "\n",
    "k = calculation(a,b)\n",
    "print (k)"
   ]
  },
  {
   "cell_type": "code",
   "execution_count": 42,
   "id": "06ffdd4f",
   "metadata": {},
   "outputs": [
    {
     "ename": "SyntaxError",
     "evalue": "non-default argument follows default argument (Temp/ipykernel_19828/1263748500.py, line 1)",
     "output_type": "error",
     "traceback": [
      "\u001b[1;36m  File \u001b[1;32m\"C:\\Users\\SANATH~1\\AppData\\Local\\Temp/ipykernel_19828/1263748500.py\"\u001b[1;36m, line \u001b[1;32m1\u001b[0m\n\u001b[1;33m    def arg_error(t=5, n):\u001b[0m\n\u001b[1;37m                        ^\u001b[0m\n\u001b[1;31mSyntaxError\u001b[0m\u001b[1;31m:\u001b[0m non-default argument follows default argument\n"
     ]
    }
   ],
   "source": [
    "def arg_error(t=5, n):\n",
    "    a = t+n\n",
    "arg_error(67,9)\n",
    "#SyntaxError: non-default argument follows default argument"
   ]
  },
  {
   "cell_type": "code",
   "execution_count": 28,
   "id": "ad8dfab7",
   "metadata": {},
   "outputs": [
    {
     "data": {
      "text/plain": [
       "7875"
      ]
     },
     "execution_count": 28,
     "metadata": {},
     "output_type": "execute_result"
    }
   ],
   "source": [
    "# Recursion : Calling the same function repetitively inside own funcion\n",
    "sum =0 \n",
    "def add(k):\n",
    "    \n",
    "    if k== 0:\n",
    "        return sum\n",
    "    else :\n",
    "        return k+ add(k-1)\n",
    "        \n",
    "add(125)"
   ]
  },
  {
   "cell_type": "code",
   "execution_count": 29,
   "id": "8e34fa5e",
   "metadata": {},
   "outputs": [
    {
     "name": "stdout",
     "output_type": "stream",
     "text": [
      "[121, 2809, 441, 5929, 7569]\n"
     ]
    }
   ],
   "source": [
    "input_list = [12, 11, 53, 22, 21, 77, 87, 88, 98]\n",
    "K =[ a**2 for a in  ( list(filter(lambda x: x%2 ==1 , input_list)))]\n",
    "print (K)"
   ]
  },
  {
   "cell_type": "code",
   "execution_count": 33,
   "id": "8c82edf6",
   "metadata": {},
   "outputs": [
    {
     "name": "stdout",
     "output_type": "stream",
     "text": [
      "[1, 4, 9, 16]\n"
     ]
    }
   ],
   "source": [
    "def square(a):\n",
    "    return a**2\n",
    "inp = (1, 2, 3, 4)\n",
    "fin_out = map(square, inp)\n",
    "print(list(fin_out))"
   ]
  },
  {
   "cell_type": "code",
   "execution_count": null,
   "id": "36e7941c",
   "metadata": {},
   "outputs": [],
   "source": []
  }
 ],
 "metadata": {
  "kernelspec": {
   "display_name": "Python 3 (ipykernel)",
   "language": "python",
   "name": "python3"
  },
  "language_info": {
   "codemirror_mode": {
    "name": "ipython",
    "version": 3
   },
   "file_extension": ".py",
   "mimetype": "text/x-python",
   "name": "python",
   "nbconvert_exporter": "python",
   "pygments_lexer": "ipython3",
   "version": "3.9.7"
  }
 },
 "nbformat": 4,
 "nbformat_minor": 5
}
